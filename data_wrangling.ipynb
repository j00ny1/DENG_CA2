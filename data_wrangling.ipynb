{
 "cells": [
  {
   "cell_type": "markdown",
   "metadata": {},
   "source": [
    "## Installing a library to read .docx files"
   ]
  },
  {
   "cell_type": "code",
   "execution_count": 83,
   "metadata": {},
   "outputs": [
    {
     "name": "stdout",
     "output_type": "stream",
     "text": [
      "Requirement already satisfied: python-docx in c:\\users\\killi\\anaconda3\\lib\\site-packages (1.1.2)\n",
      "Requirement already satisfied: lxml>=3.1.0 in c:\\users\\killi\\anaconda3\\lib\\site-packages (from python-docx) (4.9.3)\n",
      "Requirement already satisfied: typing-extensions>=4.9.0 in c:\\users\\killi\\appdata\\roaming\\python\\python311\\site-packages (from python-docx) (4.11.0)\n",
      "Note: you may need to restart the kernel to use updated packages.\n"
     ]
    }
   ],
   "source": [
    "pip install python-docx"
   ]
  },
  {
   "cell_type": "markdown",
   "metadata": {},
   "source": [
    "## Data cleaning for Employee Data"
   ]
  },
  {
   "cell_type": "code",
   "execution_count": 84,
   "metadata": {},
   "outputs": [
    {
     "data": {
      "text/html": [
       "<div>\n",
       "<style scoped>\n",
       "    .dataframe tbody tr th:only-of-type {\n",
       "        vertical-align: middle;\n",
       "    }\n",
       "\n",
       "    .dataframe tbody tr th {\n",
       "        vertical-align: top;\n",
       "    }\n",
       "\n",
       "    .dataframe thead th {\n",
       "        text-align: right;\n",
       "    }\n",
       "</style>\n",
       "<table border=\"1\" class=\"dataframe\">\n",
       "  <thead>\n",
       "    <tr style=\"text-align: right;\">\n",
       "      <th></th>\n",
       "      <th>Employee ID</th>\n",
       "      <th>First Name</th>\n",
       "      <th>Last Name</th>\n",
       "      <th>Contact Number</th>\n",
       "      <th>Gender</th>\n",
       "    </tr>\n",
       "  </thead>\n",
       "  <tbody>\n",
       "    <tr>\n",
       "      <th>0</th>\n",
       "      <td>e00001</td>\n",
       "      <td>Christopher</td>\n",
       "      <td>Thomas</td>\n",
       "      <td>7123456790</td>\n",
       "      <td>Male</td>\n",
       "    </tr>\n",
       "    <tr>\n",
       "      <th>1</th>\n",
       "      <td>e00002</td>\n",
       "      <td>Isabella</td>\n",
       "      <td>Collins</td>\n",
       "      <td>9123456788</td>\n",
       "      <td>Female</td>\n",
       "    </tr>\n",
       "    <tr>\n",
       "      <th>2</th>\n",
       "      <td>e00003</td>\n",
       "      <td>James</td>\n",
       "      <td>Allen</td>\n",
       "      <td>3123456788</td>\n",
       "      <td>Male</td>\n",
       "    </tr>\n",
       "    <tr>\n",
       "      <th>3</th>\n",
       "      <td>e00004</td>\n",
       "      <td>Elizabeth</td>\n",
       "      <td>Morris</td>\n",
       "      <td>4123456790</td>\n",
       "      <td>Female</td>\n",
       "    </tr>\n",
       "    <tr>\n",
       "      <th>4</th>\n",
       "      <td>e00005</td>\n",
       "      <td>David</td>\n",
       "      <td>Clark</td>\n",
       "      <td>6123456790</td>\n",
       "      <td>Male</td>\n",
       "    </tr>\n",
       "  </tbody>\n",
       "</table>\n",
       "</div>"
      ],
      "text/plain": [
       "  Employee ID   First Name Last Name Contact Number  Gender\n",
       "0      e00001  Christopher    Thomas     7123456790    Male\n",
       "1      e00002     Isabella   Collins     9123456788  Female\n",
       "2      e00003        James     Allen     3123456788    Male\n",
       "3      e00004    Elizabeth    Morris     4123456790  Female\n",
       "4      e00005        David     Clark     6123456790    Male"
      ]
     },
     "execution_count": 84,
     "metadata": {},
     "output_type": "execute_result"
    }
   ],
   "source": [
    "import pandas as pd\n",
    "from docx import Document\n",
    "\n",
    "\n",
    "def read_docx(file_path):\n",
    "    doc = Document(file_path)\n",
    "    data = []\n",
    "\n",
    "    for table in doc.tables:\n",
    "        # sets the first row as headers\n",
    "        headers = [cell.text for cell in table.rows[0].cells]\n",
    "        for row in table.rows[1:]:\n",
    "            data.append([cell.text for cell in row.cells])\n",
    "\n",
    "    return pd.DataFrame(data, columns=headers)\n",
    "\n",
    "\n",
    "file_path = 'employee.docx'\n",
    "employee = read_docx(file_path)\n",
    "employee.head()"
   ]
  },
  {
   "cell_type": "markdown",
   "metadata": {},
   "source": [
    "#### Changing all 'Male' to 'M' and 'Female' to 'F'"
   ]
  },
  {
   "cell_type": "code",
   "execution_count": 85,
   "metadata": {},
   "outputs": [],
   "source": [
    "# change accrodingly\n",
    "employee['Gender'] = employee['Gender'].replace({'Male': 'M', 'Female': 'F'})"
   ]
  },
  {
   "cell_type": "markdown",
   "metadata": {},
   "source": [
    "#### Checking for missing/duplicate data"
   ]
  },
  {
   "cell_type": "code",
   "execution_count": 86,
   "metadata": {},
   "outputs": [
    {
     "name": "stdout",
     "output_type": "stream",
     "text": [
      "Employee ID       0\n",
      "First Name        0\n",
      "Last Name         0\n",
      "Contact Number    0\n",
      "Gender            0\n",
      "dtype: int64\n"
     ]
    }
   ],
   "source": [
    "# checking for missing data \n",
    "missing = employee.isna().sum()\n",
    "print(missing)"
   ]
  },
  {
   "cell_type": "code",
   "execution_count": 87,
   "metadata": {},
   "outputs": [
    {
     "name": "stdout",
     "output_type": "stream",
     "text": [
      "Number of duplicates: 0\n"
     ]
    },
    {
     "data": {
      "text/html": [
       "<div>\n",
       "<style scoped>\n",
       "    .dataframe tbody tr th:only-of-type {\n",
       "        vertical-align: middle;\n",
       "    }\n",
       "\n",
       "    .dataframe tbody tr th {\n",
       "        vertical-align: top;\n",
       "    }\n",
       "\n",
       "    .dataframe thead th {\n",
       "        text-align: right;\n",
       "    }\n",
       "</style>\n",
       "<table border=\"1\" class=\"dataframe\">\n",
       "  <thead>\n",
       "    <tr style=\"text-align: right;\">\n",
       "      <th></th>\n",
       "      <th>Employee ID</th>\n",
       "      <th>First Name</th>\n",
       "      <th>Last Name</th>\n",
       "      <th>Contact Number</th>\n",
       "      <th>Gender</th>\n",
       "    </tr>\n",
       "  </thead>\n",
       "  <tbody>\n",
       "    <tr>\n",
       "      <th>0</th>\n",
       "      <td>e00001</td>\n",
       "      <td>Christopher</td>\n",
       "      <td>Thomas</td>\n",
       "      <td>7123456790</td>\n",
       "      <td>M</td>\n",
       "    </tr>\n",
       "    <tr>\n",
       "      <th>1</th>\n",
       "      <td>e00002</td>\n",
       "      <td>Isabella</td>\n",
       "      <td>Collins</td>\n",
       "      <td>9123456788</td>\n",
       "      <td>F</td>\n",
       "    </tr>\n",
       "    <tr>\n",
       "      <th>2</th>\n",
       "      <td>e00003</td>\n",
       "      <td>James</td>\n",
       "      <td>Allen</td>\n",
       "      <td>3123456788</td>\n",
       "      <td>M</td>\n",
       "    </tr>\n",
       "    <tr>\n",
       "      <th>3</th>\n",
       "      <td>e00004</td>\n",
       "      <td>Elizabeth</td>\n",
       "      <td>Morris</td>\n",
       "      <td>4123456790</td>\n",
       "      <td>F</td>\n",
       "    </tr>\n",
       "    <tr>\n",
       "      <th>4</th>\n",
       "      <td>e00005</td>\n",
       "      <td>David</td>\n",
       "      <td>Clark</td>\n",
       "      <td>6123456790</td>\n",
       "      <td>M</td>\n",
       "    </tr>\n",
       "  </tbody>\n",
       "</table>\n",
       "</div>"
      ],
      "text/plain": [
       "  Employee ID   First Name Last Name Contact Number Gender\n",
       "0      e00001  Christopher    Thomas     7123456790      M\n",
       "1      e00002     Isabella   Collins     9123456788      F\n",
       "2      e00003        James     Allen     3123456788      M\n",
       "3      e00004    Elizabeth    Morris     4123456790      F\n",
       "4      e00005        David     Clark     6123456790      M"
      ]
     },
     "execution_count": 87,
     "metadata": {},
     "output_type": "execute_result"
    }
   ],
   "source": [
    "# checking for duplicates \n",
    "duplicates = employee.duplicated().sum()\n",
    "print(f\"Number of duplicates: {duplicates}\")\n",
    "employee.head()"
   ]
  },
  {
   "cell_type": "markdown",
   "metadata": {},
   "source": [
    "## Data cleaning for Customer Data"
   ]
  },
  {
   "cell_type": "code",
   "execution_count": 88,
   "metadata": {},
   "outputs": [
    {
     "data": {
      "text/html": [
       "<div>\n",
       "<style scoped>\n",
       "    .dataframe tbody tr th:only-of-type {\n",
       "        vertical-align: middle;\n",
       "    }\n",
       "\n",
       "    .dataframe tbody tr th {\n",
       "        vertical-align: top;\n",
       "    }\n",
       "\n",
       "    .dataframe thead th {\n",
       "        text-align: right;\n",
       "    }\n",
       "</style>\n",
       "<table border=\"1\" class=\"dataframe\">\n",
       "  <thead>\n",
       "    <tr style=\"text-align: right;\">\n",
       "      <th></th>\n",
       "      <th>Customer ID</th>\n",
       "      <th>First Name</th>\n",
       "      <th>Last Name</th>\n",
       "      <th>Company Name</th>\n",
       "      <th>Contact Number</th>\n",
       "    </tr>\n",
       "  </thead>\n",
       "  <tbody>\n",
       "    <tr>\n",
       "      <th>0</th>\n",
       "      <td>c0001</td>\n",
       "      <td>John</td>\n",
       "      <td>Doe</td>\n",
       "      <td>ABC Company</td>\n",
       "      <td>5123456789</td>\n",
       "    </tr>\n",
       "    <tr>\n",
       "      <th>1</th>\n",
       "      <td>c0002</td>\n",
       "      <td>Jane</td>\n",
       "      <td>Smith</td>\n",
       "      <td>XYZ Corporation</td>\n",
       "      <td>7123456789</td>\n",
       "    </tr>\n",
       "    <tr>\n",
       "      <th>2</th>\n",
       "      <td>c0003</td>\n",
       "      <td>Michael</td>\n",
       "      <td>Johnson</td>\n",
       "      <td>Acme Inc.</td>\n",
       "      <td>9123456787</td>\n",
       "    </tr>\n",
       "    <tr>\n",
       "      <th>3</th>\n",
       "      <td>c0004</td>\n",
       "      <td>Emily</td>\n",
       "      <td>Williams</td>\n",
       "      <td>Beta Technologies</td>\n",
       "      <td>3123456789</td>\n",
       "    </tr>\n",
       "    <tr>\n",
       "      <th>4</th>\n",
       "      <td>c0005</td>\n",
       "      <td>David</td>\n",
       "      <td>Brown</td>\n",
       "      <td>Gamma Enterprises</td>\n",
       "      <td>4123456789</td>\n",
       "    </tr>\n",
       "  </tbody>\n",
       "</table>\n",
       "</div>"
      ],
      "text/plain": [
       "  Customer ID First Name Last Name       Company Name  Contact Number\n",
       "0       c0001       John       Doe        ABC Company      5123456789\n",
       "1       c0002       Jane     Smith    XYZ Corporation      7123456789\n",
       "2       c0003    Michael   Johnson          Acme Inc.      9123456787\n",
       "3       c0004      Emily  Williams  Beta Technologies      3123456789\n",
       "4       c0005      David     Brown  Gamma Enterprises      4123456789"
      ]
     },
     "execution_count": 88,
     "metadata": {},
     "output_type": "execute_result"
    }
   ],
   "source": [
    "## Customer.csv\n",
    "import pandas as pd\n",
    "customer = pd.read_csv('customer.csv')\n",
    "customer.head()"
   ]
  },
  {
   "cell_type": "code",
   "execution_count": 89,
   "metadata": {},
   "outputs": [
    {
     "name": "stdout",
     "output_type": "stream",
     "text": [
      "Customer ID       0\n",
      "First Name        0\n",
      "Last Name         0\n",
      "Company Name      0\n",
      "Contact Number    0\n",
      "dtype: int64\n"
     ]
    }
   ],
   "source": [
    "# checking for missing data \n",
    "missing = customer.isna().sum()\n",
    "print(missing)"
   ]
  },
  {
   "cell_type": "code",
   "execution_count": 90,
   "metadata": {},
   "outputs": [
    {
     "name": "stdout",
     "output_type": "stream",
     "text": [
      "Number of duplicates: 0\n"
     ]
    },
    {
     "data": {
      "text/html": [
       "<div>\n",
       "<style scoped>\n",
       "    .dataframe tbody tr th:only-of-type {\n",
       "        vertical-align: middle;\n",
       "    }\n",
       "\n",
       "    .dataframe tbody tr th {\n",
       "        vertical-align: top;\n",
       "    }\n",
       "\n",
       "    .dataframe thead th {\n",
       "        text-align: right;\n",
       "    }\n",
       "</style>\n",
       "<table border=\"1\" class=\"dataframe\">\n",
       "  <thead>\n",
       "    <tr style=\"text-align: right;\">\n",
       "      <th></th>\n",
       "      <th>Customer ID</th>\n",
       "      <th>First Name</th>\n",
       "      <th>Last Name</th>\n",
       "      <th>Company Name</th>\n",
       "      <th>Contact Number</th>\n",
       "    </tr>\n",
       "  </thead>\n",
       "  <tbody>\n",
       "    <tr>\n",
       "      <th>0</th>\n",
       "      <td>c0001</td>\n",
       "      <td>John</td>\n",
       "      <td>Doe</td>\n",
       "      <td>ABC Company</td>\n",
       "      <td>5123456789</td>\n",
       "    </tr>\n",
       "    <tr>\n",
       "      <th>1</th>\n",
       "      <td>c0002</td>\n",
       "      <td>Jane</td>\n",
       "      <td>Smith</td>\n",
       "      <td>XYZ Corporation</td>\n",
       "      <td>7123456789</td>\n",
       "    </tr>\n",
       "    <tr>\n",
       "      <th>2</th>\n",
       "      <td>c0003</td>\n",
       "      <td>Michael</td>\n",
       "      <td>Johnson</td>\n",
       "      <td>Acme Inc.</td>\n",
       "      <td>9123456787</td>\n",
       "    </tr>\n",
       "    <tr>\n",
       "      <th>3</th>\n",
       "      <td>c0004</td>\n",
       "      <td>Emily</td>\n",
       "      <td>Williams</td>\n",
       "      <td>Beta Technologies</td>\n",
       "      <td>3123456789</td>\n",
       "    </tr>\n",
       "    <tr>\n",
       "      <th>4</th>\n",
       "      <td>c0005</td>\n",
       "      <td>David</td>\n",
       "      <td>Brown</td>\n",
       "      <td>Gamma Enterprises</td>\n",
       "      <td>4123456789</td>\n",
       "    </tr>\n",
       "  </tbody>\n",
       "</table>\n",
       "</div>"
      ],
      "text/plain": [
       "  Customer ID First Name Last Name       Company Name  Contact Number\n",
       "0       c0001       John       Doe        ABC Company      5123456789\n",
       "1       c0002       Jane     Smith    XYZ Corporation      7123456789\n",
       "2       c0003    Michael   Johnson          Acme Inc.      9123456787\n",
       "3       c0004      Emily  Williams  Beta Technologies      3123456789\n",
       "4       c0005      David     Brown  Gamma Enterprises      4123456789"
      ]
     },
     "execution_count": 90,
     "metadata": {},
     "output_type": "execute_result"
    }
   ],
   "source": [
    "# checking for duplicates \n",
    "duplicates = customer.duplicated().sum()\n",
    "print(f\"Number of duplicates: {duplicates}\")\n",
    "customer.head()"
   ]
  },
  {
   "cell_type": "markdown",
   "metadata": {},
   "source": [
    "#### Customer Data has no duplicates and no missing values\n"
   ]
  },
  {
   "cell_type": "markdown",
   "metadata": {},
   "source": [
    "## Data cleaning for Order Data"
   ]
  },
  {
   "cell_type": "code",
   "execution_count": 91,
   "metadata": {},
   "outputs": [
    {
     "data": {
      "text/html": [
       "<div>\n",
       "<style scoped>\n",
       "    .dataframe tbody tr th:only-of-type {\n",
       "        vertical-align: middle;\n",
       "    }\n",
       "\n",
       "    .dataframe tbody tr th {\n",
       "        vertical-align: top;\n",
       "    }\n",
       "\n",
       "    .dataframe thead th {\n",
       "        text-align: right;\n",
       "    }\n",
       "</style>\n",
       "<table border=\"1\" class=\"dataframe\">\n",
       "  <thead>\n",
       "    <tr style=\"text-align: right;\">\n",
       "      <th></th>\n",
       "      <th>Order ID</th>\n",
       "      <th>Customer ID</th>\n",
       "      <th>Employee ID</th>\n",
       "      <th>Required Model Type</th>\n",
       "      <th>Required Accuracy</th>\n",
       "      <th>Order Date</th>\n",
       "      <th>Completion Date</th>\n",
       "      <th>Model ID</th>\n",
       "      <th>Price</th>\n",
       "    </tr>\n",
       "  </thead>\n",
       "  <tbody>\n",
       "    <tr>\n",
       "      <th>0</th>\n",
       "      <td>S231255</td>\n",
       "      <td>c0058</td>\n",
       "      <td>e00010</td>\n",
       "      <td>NN</td>\n",
       "      <td>60.31</td>\n",
       "      <td>2023/11/25</td>\n",
       "      <td>2023/12/05</td>\n",
       "      <td>m0008</td>\n",
       "      <td>676</td>\n",
       "    </tr>\n",
       "    <tr>\n",
       "      <th>1</th>\n",
       "      <td>S210837</td>\n",
       "      <td>c0032</td>\n",
       "      <td>e00019</td>\n",
       "      <td>kNN</td>\n",
       "      <td>68.01</td>\n",
       "      <td>2021/09/25</td>\n",
       "      <td>2021/12/07</td>\n",
       "      <td>m0034</td>\n",
       "      <td>125</td>\n",
       "    </tr>\n",
       "    <tr>\n",
       "      <th>2</th>\n",
       "      <td>S210316</td>\n",
       "      <td>c0032</td>\n",
       "      <td>e00004</td>\n",
       "      <td>LR</td>\n",
       "      <td>70.39</td>\n",
       "      <td>2021/10/12</td>\n",
       "      <td>2021/12/17</td>\n",
       "      <td>m0075</td>\n",
       "      <td>266</td>\n",
       "    </tr>\n",
       "    <tr>\n",
       "      <th>3</th>\n",
       "      <td>S221093</td>\n",
       "      <td>c0014</td>\n",
       "      <td>e00014</td>\n",
       "      <td>NN</td>\n",
       "      <td>61.75</td>\n",
       "      <td>2022/03/25</td>\n",
       "      <td>2022/10/05</td>\n",
       "      <td>m0023</td>\n",
       "      <td>399</td>\n",
       "    </tr>\n",
       "    <tr>\n",
       "      <th>4</th>\n",
       "      <td>S210253</td>\n",
       "      <td>c0016</td>\n",
       "      <td>e00016</td>\n",
       "      <td>SVM</td>\n",
       "      <td>56.60</td>\n",
       "      <td>2021/10/22</td>\n",
       "      <td>2021/12/06</td>\n",
       "      <td>m0056</td>\n",
       "      <td>236</td>\n",
       "    </tr>\n",
       "  </tbody>\n",
       "</table>\n",
       "</div>"
      ],
      "text/plain": [
       "  Order ID Customer ID Employee ID Required Model Type  Required Accuracy  \\\n",
       "0  S231255       c0058      e00010                  NN              60.31   \n",
       "1  S210837       c0032      e00019                 kNN              68.01   \n",
       "2  S210316       c0032      e00004                  LR              70.39   \n",
       "3  S221093       c0014      e00014                  NN              61.75   \n",
       "4  S210253       c0016      e00016                 SVM              56.60   \n",
       "\n",
       "   Order Date Completion Date Model ID  Price  \n",
       "0  2023/11/25      2023/12/05    m0008    676  \n",
       "1  2021/09/25      2021/12/07    m0034    125  \n",
       "2  2021/10/12      2021/12/17    m0075    266  \n",
       "3  2022/03/25      2022/10/05    m0023    399  \n",
       "4  2021/10/22      2021/12/06    m0056    236  "
      ]
     },
     "execution_count": 91,
     "metadata": {},
     "output_type": "execute_result"
    }
   ],
   "source": [
    "# Order CSV\n",
    "import pandas as pd\n",
    "order = pd.read_csv('order.csv')\n",
    "order.head()"
   ]
  },
  {
   "cell_type": "markdown",
   "metadata": {},
   "source": [
    "### Make sure all orders are made before the completion date (date of model assignment)"
   ]
  },
  {
   "cell_type": "code",
   "execution_count": 92,
   "metadata": {},
   "outputs": [
    {
     "data": {
      "text/html": [
       "<div>\n",
       "<style scoped>\n",
       "    .dataframe tbody tr th:only-of-type {\n",
       "        vertical-align: middle;\n",
       "    }\n",
       "\n",
       "    .dataframe tbody tr th {\n",
       "        vertical-align: top;\n",
       "    }\n",
       "\n",
       "    .dataframe thead th {\n",
       "        text-align: right;\n",
       "    }\n",
       "</style>\n",
       "<table border=\"1\" class=\"dataframe\">\n",
       "  <thead>\n",
       "    <tr style=\"text-align: right;\">\n",
       "      <th></th>\n",
       "      <th>Order ID</th>\n",
       "      <th>Customer ID</th>\n",
       "      <th>Employee ID</th>\n",
       "      <th>Required Model Type</th>\n",
       "      <th>Required Accuracy</th>\n",
       "      <th>Order Date</th>\n",
       "      <th>Completion Date</th>\n",
       "      <th>Model ID</th>\n",
       "      <th>Price</th>\n",
       "    </tr>\n",
       "  </thead>\n",
       "  <tbody>\n",
       "  </tbody>\n",
       "</table>\n",
       "</div>"
      ],
      "text/plain": [
       "Empty DataFrame\n",
       "Columns: [Order ID, Customer ID, Employee ID, Required Model Type, Required Accuracy, Order Date, Completion Date, Model ID, Price]\n",
       "Index: []"
      ]
     },
     "execution_count": 92,
     "metadata": {},
     "output_type": "execute_result"
    }
   ],
   "source": [
    "# converting date columns to datetime format\n",
    "order['Order Date'] = pd.to_datetime(order['Order Date'], format='%Y/%m/%d')\n",
    "order['Completion Date'] = pd.to_datetime(order['Completion Date'], format='%Y/%m/%d')\n",
    "\n",
    "# checking if there are any orders that have order dates before completion dates\n",
    "order[order['Order Date'] > order['Completion Date']]"
   ]
  },
  {
   "cell_type": "markdown",
   "metadata": {},
   "source": [
    "Looks like there are no such orders"
   ]
  },
  {
   "cell_type": "code",
   "execution_count": 93,
   "metadata": {},
   "outputs": [
    {
     "data": {
      "text/html": [
       "<div>\n",
       "<style scoped>\n",
       "    .dataframe tbody tr th:only-of-type {\n",
       "        vertical-align: middle;\n",
       "    }\n",
       "\n",
       "    .dataframe tbody tr th {\n",
       "        vertical-align: top;\n",
       "    }\n",
       "\n",
       "    .dataframe thead th {\n",
       "        text-align: right;\n",
       "    }\n",
       "</style>\n",
       "<table border=\"1\" class=\"dataframe\">\n",
       "  <thead>\n",
       "    <tr style=\"text-align: right;\">\n",
       "      <th></th>\n",
       "      <th>Order ID</th>\n",
       "      <th>Customer ID</th>\n",
       "      <th>Employee ID</th>\n",
       "      <th>Required Model Type</th>\n",
       "      <th>Required Accuracy</th>\n",
       "      <th>Order Date</th>\n",
       "      <th>Completion Date</th>\n",
       "      <th>Model ID</th>\n",
       "      <th>Price</th>\n",
       "    </tr>\n",
       "  </thead>\n",
       "  <tbody>\n",
       "    <tr>\n",
       "      <th>0</th>\n",
       "      <td>S231255</td>\n",
       "      <td>c0058</td>\n",
       "      <td>e00010</td>\n",
       "      <td>NN</td>\n",
       "      <td>60.31</td>\n",
       "      <td>2023-11-25</td>\n",
       "      <td>2023-12-05</td>\n",
       "      <td>m0008</td>\n",
       "      <td>676</td>\n",
       "    </tr>\n",
       "    <tr>\n",
       "      <th>1</th>\n",
       "      <td>S210837</td>\n",
       "      <td>c0032</td>\n",
       "      <td>e00019</td>\n",
       "      <td>kNN</td>\n",
       "      <td>68.01</td>\n",
       "      <td>2021-09-25</td>\n",
       "      <td>2021-12-07</td>\n",
       "      <td>m0034</td>\n",
       "      <td>125</td>\n",
       "    </tr>\n",
       "    <tr>\n",
       "      <th>2</th>\n",
       "      <td>S210316</td>\n",
       "      <td>c0032</td>\n",
       "      <td>e00004</td>\n",
       "      <td>LR</td>\n",
       "      <td>70.39</td>\n",
       "      <td>2021-10-12</td>\n",
       "      <td>2021-12-17</td>\n",
       "      <td>m0075</td>\n",
       "      <td>266</td>\n",
       "    </tr>\n",
       "    <tr>\n",
       "      <th>3</th>\n",
       "      <td>S221093</td>\n",
       "      <td>c0014</td>\n",
       "      <td>e00014</td>\n",
       "      <td>NN</td>\n",
       "      <td>61.75</td>\n",
       "      <td>2022-03-25</td>\n",
       "      <td>2022-10-05</td>\n",
       "      <td>m0023</td>\n",
       "      <td>399</td>\n",
       "    </tr>\n",
       "    <tr>\n",
       "      <th>4</th>\n",
       "      <td>S210253</td>\n",
       "      <td>c0016</td>\n",
       "      <td>e00016</td>\n",
       "      <td>SVM</td>\n",
       "      <td>56.60</td>\n",
       "      <td>2021-10-22</td>\n",
       "      <td>2021-12-06</td>\n",
       "      <td>m0056</td>\n",
       "      <td>236</td>\n",
       "    </tr>\n",
       "  </tbody>\n",
       "</table>\n",
       "</div>"
      ],
      "text/plain": [
       "  Order ID Customer ID Employee ID Required Model Type  Required Accuracy  \\\n",
       "0  S231255       c0058      e00010                  NN              60.31   \n",
       "1  S210837       c0032      e00019                 kNN              68.01   \n",
       "2  S210316       c0032      e00004                  LR              70.39   \n",
       "3  S221093       c0014      e00014                  NN              61.75   \n",
       "4  S210253       c0016      e00016                 SVM              56.60   \n",
       "\n",
       "  Order Date Completion Date Model ID  Price  \n",
       "0 2023-11-25      2023-12-05    m0008    676  \n",
       "1 2021-09-25      2021-12-07    m0034    125  \n",
       "2 2021-10-12      2021-12-17    m0075    266  \n",
       "3 2022-03-25      2022-10-05    m0023    399  \n",
       "4 2021-10-22      2021-12-06    m0056    236  "
      ]
     },
     "execution_count": 93,
     "metadata": {},
     "output_type": "execute_result"
    }
   ],
   "source": [
    "order.head()"
   ]
  },
  {
   "cell_type": "markdown",
   "metadata": {},
   "source": [
    "### Check for missing/duplicate data"
   ]
  },
  {
   "cell_type": "code",
   "execution_count": 94,
   "metadata": {},
   "outputs": [
    {
     "name": "stdout",
     "output_type": "stream",
     "text": [
      "Order ID               0\n",
      "Customer ID            1\n",
      "Employee ID            0\n",
      "Required Model Type    0\n",
      "Required Accuracy      0\n",
      "Order Date             0\n",
      "Completion Date        0\n",
      "Model ID               0\n",
      "Price                  0\n",
      "dtype: int64\n"
     ]
    }
   ],
   "source": [
    "# checking for missing data \n",
    "missing = order.isna().sum()\n",
    "print(missing)"
   ]
  },
  {
   "cell_type": "markdown",
   "metadata": {},
   "source": [
    "#### There is one row with missing customer ID, we will be dropping this row."
   ]
  },
  {
   "cell_type": "code",
   "execution_count": 95,
   "metadata": {},
   "outputs": [],
   "source": [
    "# making sure there is no missing values\n",
    "order.dropna(axis=1, how='any', inplace=True)"
   ]
  },
  {
   "cell_type": "code",
   "execution_count": 96,
   "metadata": {},
   "outputs": [
    {
     "name": "stdout",
     "output_type": "stream",
     "text": [
      "Order ID               0\n",
      "Employee ID            0\n",
      "Required Model Type    0\n",
      "Required Accuracy      0\n",
      "Order Date             0\n",
      "Completion Date        0\n",
      "Model ID               0\n",
      "Price                  0\n",
      "dtype: int64\n"
     ]
    }
   ],
   "source": [
    "# checking for missing data \n",
    "missing = order.isna().sum()\n",
    "print(missing)"
   ]
  },
  {
   "cell_type": "code",
   "execution_count": 97,
   "metadata": {},
   "outputs": [
    {
     "name": "stdout",
     "output_type": "stream",
     "text": [
      "Number of duplicates: 0\n"
     ]
    }
   ],
   "source": [
    "# checking for duplicates \n",
    "duplicates = order.duplicated().sum()\n",
    "print(f\"Number of duplicates: {duplicates}\")"
   ]
  },
  {
   "cell_type": "markdown",
   "metadata": {},
   "source": [
    "## Data cleaning for Modeling Data"
   ]
  },
  {
   "cell_type": "code",
   "execution_count": 98,
   "metadata": {},
   "outputs": [
    {
     "data": {
      "text/html": [
       "<div>\n",
       "<style scoped>\n",
       "    .dataframe tbody tr th:only-of-type {\n",
       "        vertical-align: middle;\n",
       "    }\n",
       "\n",
       "    .dataframe tbody tr th {\n",
       "        vertical-align: top;\n",
       "    }\n",
       "\n",
       "    .dataframe thead th {\n",
       "        text-align: right;\n",
       "    }\n",
       "</style>\n",
       "<table border=\"1\" class=\"dataframe\">\n",
       "  <thead>\n",
       "    <tr style=\"text-align: right;\">\n",
       "      <th></th>\n",
       "      <th>Dataset ID</th>\n",
       "      <th>Dataset Name</th>\n",
       "    </tr>\n",
       "  </thead>\n",
       "  <tbody>\n",
       "    <tr>\n",
       "      <th>0</th>\n",
       "      <td>ds001</td>\n",
       "      <td>Retail_Sales_Data</td>\n",
       "    </tr>\n",
       "    <tr>\n",
       "      <th>1</th>\n",
       "      <td>ds002</td>\n",
       "      <td>Customer_Churn_Analysis</td>\n",
       "    </tr>\n",
       "    <tr>\n",
       "      <th>2</th>\n",
       "      <td>ds003</td>\n",
       "      <td>Stock_Market_Prices</td>\n",
       "    </tr>\n",
       "    <tr>\n",
       "      <th>3</th>\n",
       "      <td>ds004</td>\n",
       "      <td>Employee_Satisfaction_Survey</td>\n",
       "    </tr>\n",
       "    <tr>\n",
       "      <th>4</th>\n",
       "      <td>ds005</td>\n",
       "      <td>Marketing_Campaign_Performance</td>\n",
       "    </tr>\n",
       "  </tbody>\n",
       "</table>\n",
       "</div>"
      ],
      "text/plain": [
       "  Dataset ID                     Dataset Name\n",
       "0      ds001                Retail_Sales_Data\n",
       "1      ds002          Customer_Churn_Analysis\n",
       "2      ds003              Stock_Market_Prices\n",
       "3      ds004     Employee_Satisfaction_Survey\n",
       "4      ds005   Marketing_Campaign_Performance"
      ]
     },
     "execution_count": 98,
     "metadata": {},
     "output_type": "execute_result"
    }
   ],
   "source": [
    "dataset = pd.read_excel('modeling.xlsx', sheet_name='dataset')\n",
    "dataset.head()"
   ]
  },
  {
   "cell_type": "code",
   "execution_count": 99,
   "metadata": {},
   "outputs": [
    {
     "data": {
      "text/plain": [
       "Index(['Dataset ID', ' Dataset Name'], dtype='object')"
      ]
     },
     "execution_count": 99,
     "metadata": {},
     "output_type": "execute_result"
    }
   ],
   "source": [
    "dataset.columns"
   ]
  },
  {
   "cell_type": "markdown",
   "metadata": {},
   "source": [
    "#### We will remove the blank spaces in the columns"
   ]
  },
  {
   "cell_type": "code",
   "execution_count": 100,
   "metadata": {},
   "outputs": [
    {
     "data": {
      "text/plain": [
       "Index(['Dataset ID', 'Dataset Name'], dtype='object')"
      ]
     },
     "execution_count": 100,
     "metadata": {},
     "output_type": "execute_result"
    }
   ],
   "source": [
    "dataset.columns = dataset.columns.str.strip()\n",
    "dataset.columns"
   ]
  },
  {
   "cell_type": "markdown",
   "metadata": {},
   "source": [
    "#### Check for missing/duplicate data"
   ]
  },
  {
   "cell_type": "code",
   "execution_count": 101,
   "metadata": {},
   "outputs": [
    {
     "name": "stdout",
     "output_type": "stream",
     "text": [
      "Dataset ID      0\n",
      "Dataset Name    0\n",
      "dtype: int64\n"
     ]
    }
   ],
   "source": [
    "# checking for missing data \n",
    "missing = dataset.isna().sum()\n",
    "print(missing)"
   ]
  },
  {
   "cell_type": "code",
   "execution_count": 102,
   "metadata": {},
   "outputs": [
    {
     "name": "stdout",
     "output_type": "stream",
     "text": [
      "Number of duplicates: 0\n"
     ]
    },
    {
     "data": {
      "text/html": [
       "<div>\n",
       "<style scoped>\n",
       "    .dataframe tbody tr th:only-of-type {\n",
       "        vertical-align: middle;\n",
       "    }\n",
       "\n",
       "    .dataframe tbody tr th {\n",
       "        vertical-align: top;\n",
       "    }\n",
       "\n",
       "    .dataframe thead th {\n",
       "        text-align: right;\n",
       "    }\n",
       "</style>\n",
       "<table border=\"1\" class=\"dataframe\">\n",
       "  <thead>\n",
       "    <tr style=\"text-align: right;\">\n",
       "      <th></th>\n",
       "      <th>Dataset ID</th>\n",
       "      <th>Dataset Name</th>\n",
       "    </tr>\n",
       "  </thead>\n",
       "  <tbody>\n",
       "    <tr>\n",
       "      <th>0</th>\n",
       "      <td>ds001</td>\n",
       "      <td>Retail_Sales_Data</td>\n",
       "    </tr>\n",
       "    <tr>\n",
       "      <th>1</th>\n",
       "      <td>ds002</td>\n",
       "      <td>Customer_Churn_Analysis</td>\n",
       "    </tr>\n",
       "    <tr>\n",
       "      <th>2</th>\n",
       "      <td>ds003</td>\n",
       "      <td>Stock_Market_Prices</td>\n",
       "    </tr>\n",
       "    <tr>\n",
       "      <th>3</th>\n",
       "      <td>ds004</td>\n",
       "      <td>Employee_Satisfaction_Survey</td>\n",
       "    </tr>\n",
       "    <tr>\n",
       "      <th>4</th>\n",
       "      <td>ds005</td>\n",
       "      <td>Marketing_Campaign_Performance</td>\n",
       "    </tr>\n",
       "  </tbody>\n",
       "</table>\n",
       "</div>"
      ],
      "text/plain": [
       "  Dataset ID                     Dataset Name\n",
       "0      ds001                Retail_Sales_Data\n",
       "1      ds002          Customer_Churn_Analysis\n",
       "2      ds003              Stock_Market_Prices\n",
       "3      ds004     Employee_Satisfaction_Survey\n",
       "4      ds005   Marketing_Campaign_Performance"
      ]
     },
     "execution_count": 102,
     "metadata": {},
     "output_type": "execute_result"
    }
   ],
   "source": [
    "# checking for duplicates \n",
    "duplicates = dataset.duplicated().sum()\n",
    "print(f\"Number of duplicates: {duplicates}\")\n",
    "dataset.head()"
   ]
  },
  {
   "cell_type": "code",
   "execution_count": 103,
   "metadata": {},
   "outputs": [
    {
     "data": {
      "text/html": [
       "<div>\n",
       "<style scoped>\n",
       "    .dataframe tbody tr th:only-of-type {\n",
       "        vertical-align: middle;\n",
       "    }\n",
       "\n",
       "    .dataframe tbody tr th {\n",
       "        vertical-align: top;\n",
       "    }\n",
       "\n",
       "    .dataframe thead th {\n",
       "        text-align: right;\n",
       "    }\n",
       "</style>\n",
       "<table border=\"1\" class=\"dataframe\">\n",
       "  <thead>\n",
       "    <tr style=\"text-align: right;\">\n",
       "      <th></th>\n",
       "      <th>Model ID</th>\n",
       "      <th>Model Code</th>\n",
       "      <th>Training Date</th>\n",
       "      <th>Accuracy</th>\n",
       "      <th>Dataset ID</th>\n",
       "    </tr>\n",
       "  </thead>\n",
       "  <tbody>\n",
       "    <tr>\n",
       "      <th>0</th>\n",
       "      <td>m0001</td>\n",
       "      <td>RF</td>\n",
       "      <td>2020/06/25</td>\n",
       "      <td>93.5</td>\n",
       "      <td>ds001</td>\n",
       "    </tr>\n",
       "    <tr>\n",
       "      <th>1</th>\n",
       "      <td>m0002</td>\n",
       "      <td>NN</td>\n",
       "      <td>2020/03/12</td>\n",
       "      <td>88.2</td>\n",
       "      <td>ds002</td>\n",
       "    </tr>\n",
       "    <tr>\n",
       "      <th>2</th>\n",
       "      <td>m0003</td>\n",
       "      <td>SVM</td>\n",
       "      <td>2020/09/18</td>\n",
       "      <td>85.7</td>\n",
       "      <td>ds003</td>\n",
       "    </tr>\n",
       "    <tr>\n",
       "      <th>3</th>\n",
       "      <td>m0004</td>\n",
       "      <td>kNN</td>\n",
       "      <td>2020/07/19</td>\n",
       "      <td>91.4</td>\n",
       "      <td>ds004</td>\n",
       "    </tr>\n",
       "    <tr>\n",
       "      <th>4</th>\n",
       "      <td>m0005</td>\n",
       "      <td>DT</td>\n",
       "      <td>2020/02/05</td>\n",
       "      <td>86.9</td>\n",
       "      <td>ds005</td>\n",
       "    </tr>\n",
       "  </tbody>\n",
       "</table>\n",
       "</div>"
      ],
      "text/plain": [
       "  Model ID Model Code Training Date  Accuracy Dataset ID\n",
       "0    m0001         RF    2020/06/25      93.5      ds001\n",
       "1    m0002         NN    2020/03/12      88.2      ds002\n",
       "2    m0003        SVM    2020/09/18      85.7      ds003\n",
       "3    m0004        kNN    2020/07/19      91.4      ds004\n",
       "4    m0005         DT    2020/02/05      86.9      ds005"
      ]
     },
     "execution_count": 103,
     "metadata": {},
     "output_type": "execute_result"
    }
   ],
   "source": [
    "model = pd.read_excel('modeling.xlsx', sheet_name='model')\n",
    "model.head()"
   ]
  },
  {
   "cell_type": "markdown",
   "metadata": {},
   "source": [
    "#### Changing Dates to datetime format for SQL"
   ]
  },
  {
   "cell_type": "code",
   "execution_count": 104,
   "metadata": {},
   "outputs": [
    {
     "data": {
      "text/html": [
       "<div>\n",
       "<style scoped>\n",
       "    .dataframe tbody tr th:only-of-type {\n",
       "        vertical-align: middle;\n",
       "    }\n",
       "\n",
       "    .dataframe tbody tr th {\n",
       "        vertical-align: top;\n",
       "    }\n",
       "\n",
       "    .dataframe thead th {\n",
       "        text-align: right;\n",
       "    }\n",
       "</style>\n",
       "<table border=\"1\" class=\"dataframe\">\n",
       "  <thead>\n",
       "    <tr style=\"text-align: right;\">\n",
       "      <th></th>\n",
       "      <th>Model ID</th>\n",
       "      <th>Model Code</th>\n",
       "      <th>Training Date</th>\n",
       "      <th>Accuracy</th>\n",
       "      <th>Dataset ID</th>\n",
       "    </tr>\n",
       "  </thead>\n",
       "  <tbody>\n",
       "    <tr>\n",
       "      <th>0</th>\n",
       "      <td>m0001</td>\n",
       "      <td>RF</td>\n",
       "      <td>2020-06-25</td>\n",
       "      <td>93.5</td>\n",
       "      <td>ds001</td>\n",
       "    </tr>\n",
       "    <tr>\n",
       "      <th>1</th>\n",
       "      <td>m0002</td>\n",
       "      <td>NN</td>\n",
       "      <td>2020-03-12</td>\n",
       "      <td>88.2</td>\n",
       "      <td>ds002</td>\n",
       "    </tr>\n",
       "    <tr>\n",
       "      <th>2</th>\n",
       "      <td>m0003</td>\n",
       "      <td>SVM</td>\n",
       "      <td>2020-09-18</td>\n",
       "      <td>85.7</td>\n",
       "      <td>ds003</td>\n",
       "    </tr>\n",
       "    <tr>\n",
       "      <th>3</th>\n",
       "      <td>m0004</td>\n",
       "      <td>kNN</td>\n",
       "      <td>2020-07-19</td>\n",
       "      <td>91.4</td>\n",
       "      <td>ds004</td>\n",
       "    </tr>\n",
       "    <tr>\n",
       "      <th>4</th>\n",
       "      <td>m0005</td>\n",
       "      <td>DT</td>\n",
       "      <td>2020-02-05</td>\n",
       "      <td>86.9</td>\n",
       "      <td>ds005</td>\n",
       "    </tr>\n",
       "  </tbody>\n",
       "</table>\n",
       "</div>"
      ],
      "text/plain": [
       "  Model ID Model Code Training Date  Accuracy Dataset ID\n",
       "0    m0001         RF    2020-06-25      93.5      ds001\n",
       "1    m0002         NN    2020-03-12      88.2      ds002\n",
       "2    m0003        SVM    2020-09-18      85.7      ds003\n",
       "3    m0004        kNN    2020-07-19      91.4      ds004\n",
       "4    m0005         DT    2020-02-05      86.9      ds005"
      ]
     },
     "execution_count": 104,
     "metadata": {},
     "output_type": "execute_result"
    }
   ],
   "source": [
    "model['Training Date'] = pd.to_datetime(model['Training Date'], format='%Y/%m/%d')\n",
    "model.head()"
   ]
  },
  {
   "cell_type": "code",
   "execution_count": 105,
   "metadata": {},
   "outputs": [
    {
     "name": "stdout",
     "output_type": "stream",
     "text": [
      "Model ID         0\n",
      "Model Code       0\n",
      "Training Date    0\n",
      "Accuracy         0\n",
      "Dataset ID       0\n",
      "dtype: int64\n"
     ]
    }
   ],
   "source": [
    "# checking for missing data \n",
    "missing = model.isna().sum()\n",
    "print(missing)"
   ]
  },
  {
   "cell_type": "code",
   "execution_count": 106,
   "metadata": {},
   "outputs": [
    {
     "name": "stdout",
     "output_type": "stream",
     "text": [
      "Number of duplicates: 0\n"
     ]
    }
   ],
   "source": [
    "# checking for duplicates \n",
    "duplicates = model.duplicated().sum()\n",
    "print(f\"Number of duplicates: {duplicates}\")"
   ]
  },
  {
   "cell_type": "code",
   "execution_count": 107,
   "metadata": {},
   "outputs": [
    {
     "data": {
      "text/html": [
       "<div>\n",
       "<style scoped>\n",
       "    .dataframe tbody tr th:only-of-type {\n",
       "        vertical-align: middle;\n",
       "    }\n",
       "\n",
       "    .dataframe tbody tr th {\n",
       "        vertical-align: top;\n",
       "    }\n",
       "\n",
       "    .dataframe thead th {\n",
       "        text-align: right;\n",
       "    }\n",
       "</style>\n",
       "<table border=\"1\" class=\"dataframe\">\n",
       "  <thead>\n",
       "    <tr style=\"text-align: right;\">\n",
       "      <th></th>\n",
       "      <th>Model Code</th>\n",
       "      <th>Model Type</th>\n",
       "    </tr>\n",
       "  </thead>\n",
       "  <tbody>\n",
       "    <tr>\n",
       "      <th>0</th>\n",
       "      <td>DT</td>\n",
       "      <td>Decision Tree</td>\n",
       "    </tr>\n",
       "    <tr>\n",
       "      <th>1</th>\n",
       "      <td>RF</td>\n",
       "      <td>Random Forest</td>\n",
       "    </tr>\n",
       "    <tr>\n",
       "      <th>2</th>\n",
       "      <td>LR</td>\n",
       "      <td>Linear Regression</td>\n",
       "    </tr>\n",
       "    <tr>\n",
       "      <th>3</th>\n",
       "      <td>NN</td>\n",
       "      <td>Neural Network</td>\n",
       "    </tr>\n",
       "    <tr>\n",
       "      <th>4</th>\n",
       "      <td>SVM</td>\n",
       "      <td>Support Vector Machine</td>\n",
       "    </tr>\n",
       "  </tbody>\n",
       "</table>\n",
       "</div>"
      ],
      "text/plain": [
       "  Model Code              Model Type\n",
       "0         DT           Decision Tree\n",
       "1         RF           Random Forest\n",
       "2         LR       Linear Regression\n",
       "3         NN          Neural Network\n",
       "4        SVM  Support Vector Machine"
      ]
     },
     "execution_count": 107,
     "metadata": {},
     "output_type": "execute_result"
    }
   ],
   "source": [
    "modelType = pd.read_excel('modeling.xlsx', sheet_name='modeltype')\n",
    "modelType.head()"
   ]
  },
  {
   "cell_type": "code",
   "execution_count": 108,
   "metadata": {},
   "outputs": [
    {
     "data": {
      "text/plain": [
       "Index(['Model Code', ' Model Type'], dtype='object')"
      ]
     },
     "execution_count": 108,
     "metadata": {},
     "output_type": "execute_result"
    }
   ],
   "source": [
    "modelType.columns"
   ]
  },
  {
   "cell_type": "markdown",
   "metadata": {},
   "source": [
    "#### Remove blank spaces in column name\n"
   ]
  },
  {
   "cell_type": "code",
   "execution_count": 109,
   "metadata": {},
   "outputs": [
    {
     "data": {
      "text/plain": [
       "Index(['Model Code', 'Model Type'], dtype='object')"
      ]
     },
     "execution_count": 109,
     "metadata": {},
     "output_type": "execute_result"
    }
   ],
   "source": [
    "modelType.columns = modelType.columns.str.strip()\n",
    "modelType.columns"
   ]
  },
  {
   "cell_type": "code",
   "execution_count": 110,
   "metadata": {},
   "outputs": [
    {
     "name": "stdout",
     "output_type": "stream",
     "text": [
      "Model Code    0\n",
      "Model Type    0\n",
      "dtype: int64\n"
     ]
    }
   ],
   "source": [
    "# checking for missing data \n",
    "missing = modelType.isna().sum()\n",
    "print(missing)"
   ]
  },
  {
   "cell_type": "code",
   "execution_count": 111,
   "metadata": {},
   "outputs": [
    {
     "name": "stdout",
     "output_type": "stream",
     "text": [
      "Number of duplicates: 0\n"
     ]
    }
   ],
   "source": [
    "# checking for duplicates \n",
    "duplicates = modelType.duplicated().sum()\n",
    "print(f\"Number of duplicates: {duplicates}\")"
   ]
  },
  {
   "cell_type": "markdown",
   "metadata": {},
   "source": [
    "#### Exporting the data as csv file for OLTP bulk insert"
   ]
  },
  {
   "cell_type": "code",
   "execution_count": 112,
   "metadata": {},
   "outputs": [],
   "source": [
    "# saving the data as csv file\n",
    "employee.to_csv('updated_employee.csv', index=False)\n",
    "\n",
    "customer.to_csv('updated_customer.csv', index=False)\n",
    "\n",
    "order.to_csv('updated_order.csv', index=False)\n",
    "\n",
    "dataset.to_csv('dataset.csv', index=False)\n",
    "\n",
    "model.to_csv('model.csv', index=False)\n",
    "\n",
    "modelType.to_csv('modelType.csv', index=False)"
   ]
  }
 ],
 "metadata": {
  "kernelspec": {
   "display_name": "Python 3",
   "language": "python",
   "name": "python3"
  },
  "language_info": {
   "codemirror_mode": {
    "name": "ipython",
    "version": 3
   },
   "file_extension": ".py",
   "mimetype": "text/x-python",
   "name": "python",
   "nbconvert_exporter": "python",
   "pygments_lexer": "ipython3",
   "version": "3.11.5"
  }
 },
 "nbformat": 4,
 "nbformat_minor": 2
}
